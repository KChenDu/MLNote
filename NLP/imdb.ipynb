{
 "cells": [
  {
   "cell_type": "markdown",
   "source": [
    "# 准备IMDB影评数据"
   ],
   "metadata": {
    "collapsed": false
   },
   "id": "a30054622008396b"
  },
  {
   "cell_type": "code",
   "execution_count": 7,
   "outputs": [
    {
     "name": "stdout",
     "output_type": "stream",
     "text": [
      "Found 20000 files belonging to 2 classes.\n",
      "Found 5000 files belonging to 2 classes.\n",
      "Found 25000 files belonging to 2 classes.\n"
     ]
    }
   ],
   "source": [
    "import tensorflow as tf\n",
    "import numpy as np\n",
    "\n",
    "from tensorflow import keras\n",
    "from tensorflow.keras.layers import TextVectorization\n",
    "from tensorflow.keras import layers\n",
    "\n",
    "\n",
    "batch_size = 32\n",
    "train_ds = keras.utils.text_dataset_from_directory('aclImdb/train', batch_size=batch_size)\n",
    "val_ds = keras.utils.text_dataset_from_directory('aclImdb/val', batch_size=batch_size)\n",
    "test_ds = keras.utils.text_dataset_from_directory('aclImdb/test', batch_size=batch_size)"
   ],
   "metadata": {
    "collapsed": false,
    "ExecuteTime": {
     "end_time": "2023-09-29T20:51:48.961525800Z",
     "start_time": "2023-09-29T20:51:44.774424600Z"
    }
   },
   "id": "initial_id"
  },
  {
   "cell_type": "code",
   "execution_count": 2,
   "outputs": [
    {
     "name": "stdout",
     "output_type": "stream",
     "text": [
      "inputs.shape:  (32,)\n",
      "inputs.dtype:  <dtype: 'string'>\n",
      "targets.shape:  (32,)\n",
      "targets.dtype:  <dtype: 'int32'>\n",
      "inputs[0]:  tf.Tensor(b'I am sad that a period of history that is so fascinating and so rich in material for film can be made into a ho-hum event . Wm C Quantrill was barely shown in the film , probably the most intriquing figure of the period. Frank James was never mentioned, Cole Younger , ditto , and Bloody Bill Anderson , who would weep for his murdered sister every time he went into battle was completely absent in the script. Instead we were forced to watch fictitious characters that never developed into anyone we cared about. how sad. The costumes were wonderful however, as was the location shooting in Missouri. I hope Ang Lee will make another film from the period and try again, or some other film maker will look into the tremendous wealth of material to write a screen play on .', shape=(), dtype=string)\n",
      "targets[0]:  tf.Tensor(0, shape=(), dtype=int32)\n"
     ]
    }
   ],
   "source": [
    "for inputs, targets in train_ds:\n",
    "    print(\"inputs.shape: \", inputs.shape)\n",
    "    print(\"inputs.dtype: \", inputs.dtype)\n",
    "    print(\"targets.shape: \", targets.shape)\n",
    "    print(\"targets.dtype: \", targets.dtype)\n",
    "    print(\"inputs[0]: \" , inputs[0])\n",
    "    print(\"targets[0]: \", targets[0])\n",
    "    break"
   ],
   "metadata": {
    "collapsed": false,
    "ExecuteTime": {
     "end_time": "2023-09-29T18:41:48.539176Z",
     "start_time": "2023-09-29T18:41:48.398598100Z"
    }
   },
   "id": "2c0daa14eb7b8e37"
  },
  {
   "cell_type": "code",
   "execution_count": 3,
   "outputs": [
    {
     "name": "stdout",
     "output_type": "stream",
     "text": [
      "inputs.shape:  (32, 20000)\n",
      "inputs.dtype:  <dtype: 'float32'>\n",
      "targets.shape:  (32,)\n",
      "targets.dtype:  <dtype: 'int32'>\n",
      "inputs[0]:  tf.Tensor([1. 1. 1. ... 0. 0. 0.], shape=(20000,), dtype=float32)\n",
      "targets[0]:  tf.Tensor(1, shape=(), dtype=int32)\n"
     ]
    }
   ],
   "source": [
    "text_vectorization = TextVectorization(max_tokens=20000, output_mode='multi_hot')\n",
    "text_only_train_ds = train_ds.map(lambda x, y: x)\n",
    "text_vectorization.adapt(text_only_train_ds)\n",
    "binary_1gram_train_ds = train_ds.map(lambda x, y: (text_vectorization(x), y), num_parallel_calls=4)\n",
    "binary_1gram_val_ds = val_ds.map(lambda x, y: (text_vectorization(x), y), num_parallel_calls=4)\n",
    "binary_1gram_test_ds = test_ds.map(lambda x, y: (text_vectorization(x), y), num_parallel_calls=4)\n",
    "\n",
    "for inputs, targets in binary_1gram_train_ds:\n",
    "    print(\"inputs.shape: \", inputs.shape)\n",
    "    print(\"inputs.dtype: \", inputs.dtype)\n",
    "    print(\"targets.shape: \", targets.shape)\n",
    "    print(\"targets.dtype: \", targets.dtype)\n",
    "    print(\"inputs[0]: \" , inputs[0])\n",
    "    print(\"targets[0]: \", targets[0])\n",
    "    break"
   ],
   "metadata": {
    "collapsed": false,
    "ExecuteTime": {
     "end_time": "2023-09-29T18:41:51.861525100Z",
     "start_time": "2023-09-29T18:41:48.539176Z"
    }
   },
   "id": "6bbfcd1a2832caf1"
  },
  {
   "cell_type": "markdown",
   "source": [
    "# 词袋方法\n",
    "1. 单个单词的二进制编码"
   ],
   "metadata": {
    "collapsed": false
   },
   "id": "71a2d2ea80e7da8f"
  },
  {
   "cell_type": "code",
   "execution_count": 4,
   "outputs": [
    {
     "name": "stdout",
     "output_type": "stream",
     "text": [
      "Model: \"model\"\n",
      "_________________________________________________________________\n",
      " Layer (type)                Output Shape              Param #   \n",
      "=================================================================\n",
      " input_1 (InputLayer)        [(None, 20000)]           0         \n",
      "                                                                 \n",
      " dense (Dense)               (None, 16)                320016    \n",
      "                                                                 \n",
      " dropout (Dropout)           (None, 16)                0         \n",
      "                                                                 \n",
      " dense_1 (Dense)             (None, 1)                 17        \n",
      "                                                                 \n",
      "=================================================================\n",
      "Total params: 320,033\n",
      "Trainable params: 320,033\n",
      "Non-trainable params: 0\n",
      "_________________________________________________________________\n",
      "Epoch 1/10\n",
      "625/625 [==============================] - 21s 32ms/step - loss: 0.3916 - accuracy: 0.8388 - val_loss: 0.2947 - val_accuracy: 0.8816\n",
      "Epoch 2/10\n",
      "625/625 [==============================] - 25s 40ms/step - loss: 0.2665 - accuracy: 0.9029 - val_loss: 0.3090 - val_accuracy: 0.8850\n",
      "Epoch 3/10\n",
      "625/625 [==============================] - 26s 41ms/step - loss: 0.2402 - accuracy: 0.9169 - val_loss: 0.3199 - val_accuracy: 0.8858\n",
      "Epoch 4/10\n",
      "625/625 [==============================] - 21s 34ms/step - loss: 0.2252 - accuracy: 0.9236 - val_loss: 0.3393 - val_accuracy: 0.8894\n",
      "Epoch 5/10\n",
      "625/625 [==============================] - 28s 44ms/step - loss: 0.2174 - accuracy: 0.9313 - val_loss: 0.3596 - val_accuracy: 0.8910\n",
      "Epoch 6/10\n",
      "625/625 [==============================] - 24s 39ms/step - loss: 0.2156 - accuracy: 0.9323 - val_loss: 0.3750 - val_accuracy: 0.8896\n",
      "Epoch 7/10\n",
      "625/625 [==============================] - 25s 41ms/step - loss: 0.2085 - accuracy: 0.9359 - val_loss: 0.3834 - val_accuracy: 0.8862\n",
      "Epoch 8/10\n",
      "625/625 [==============================] - 25s 41ms/step - loss: 0.2104 - accuracy: 0.9349 - val_loss: 0.4032 - val_accuracy: 0.8842\n",
      "Epoch 9/10\n",
      "625/625 [==============================] - 26s 42ms/step - loss: 0.2079 - accuracy: 0.9366 - val_loss: 0.4058 - val_accuracy: 0.8836\n",
      "Epoch 10/10\n",
      "625/625 [==============================] - 25s 40ms/step - loss: 0.2078 - accuracy: 0.9381 - val_loss: 0.4151 - val_accuracy: 0.8812\n",
      "782/782 [==============================] - 24s 30ms/step - loss: 0.2875 - accuracy: 0.8851\n",
      "Test acc: 0.885\n"
     ]
    }
   ],
   "source": [
    "def get_model(max_tokens=20000, hidden_dim=16):\n",
    "    inputs = keras.Input(shape=(max_tokens,))\n",
    "    x = layers.Dense(hidden_dim, activation='relu')(inputs)\n",
    "    x = layers.Dropout(0.5)(x)\n",
    "    outputs = layers.Dense(1, activation='sigmoid')(x)\n",
    "    model = keras.Model(inputs, outputs)\n",
    "    model.compile(optimizer='rmsprop', loss='binary_crossentropy', metrics=['accuracy'])\n",
    "    return model\n",
    "\n",
    "\n",
    "model = get_model()\n",
    "model.summary()\n",
    "callbacks = [keras.callbacks.ModelCheckpoint('binary_1gram.keras', save_best_only=True)]\n",
    "model.fit(binary_1gram_train_ds.cache(), validation_data=binary_1gram_val_ds, epochs=10, callbacks=callbacks)\n",
    "model = keras.models.load_model('binary_1gram.keras')\n",
    "print(f\"Test acc: {model.evaluate(binary_1gram_test_ds)[1]:.3f}\")"
   ],
   "metadata": {
    "collapsed": false,
    "ExecuteTime": {
     "end_time": "2023-09-29T15:43:23.773899800Z",
     "start_time": "2023-09-29T15:38:53.834972300Z"
    }
   },
   "id": "8647da840e5dbba3"
  },
  {
   "cell_type": "markdown",
   "source": [
    "2. 二元语法的二进制编码"
   ],
   "metadata": {
    "collapsed": false
   },
   "id": "8acfdd717744f16b"
  },
  {
   "cell_type": "code",
   "execution_count": 5,
   "outputs": [
    {
     "name": "stdout",
     "output_type": "stream",
     "text": [
      "Epoch 1/10\n",
      "625/625 [==============================] - 23s 36ms/step - loss: 0.4760 - accuracy: 0.7912 - val_loss: 0.3344 - val_accuracy: 0.8730\n",
      "Epoch 2/10\n",
      "625/625 [==============================] - 25s 40ms/step - loss: 0.2910 - accuracy: 0.8932 - val_loss: 0.3217 - val_accuracy: 0.8906\n",
      "Epoch 3/10\n",
      "625/625 [==============================] - 25s 41ms/step - loss: 0.2435 - accuracy: 0.9171 - val_loss: 0.3226 - val_accuracy: 0.8914\n",
      "Epoch 4/10\n",
      "625/625 [==============================] - 27s 43ms/step - loss: 0.2247 - accuracy: 0.9273 - val_loss: 0.3474 - val_accuracy: 0.8916\n",
      "Epoch 5/10\n",
      "625/625 [==============================] - 25s 40ms/step - loss: 0.2091 - accuracy: 0.9347 - val_loss: 0.3604 - val_accuracy: 0.8916\n",
      "Epoch 6/10\n",
      "625/625 [==============================] - 25s 39ms/step - loss: 0.2153 - accuracy: 0.9359 - val_loss: 0.3662 - val_accuracy: 0.8906\n",
      "Epoch 7/10\n",
      "625/625 [==============================] - 25s 41ms/step - loss: 0.2030 - accuracy: 0.9373 - val_loss: 0.3770 - val_accuracy: 0.8886\n",
      "Epoch 8/10\n",
      "625/625 [==============================] - 26s 41ms/step - loss: 0.1996 - accuracy: 0.9401 - val_loss: 0.3931 - val_accuracy: 0.8864\n",
      "Epoch 9/10\n",
      "625/625 [==============================] - 26s 41ms/step - loss: 0.2042 - accuracy: 0.9417 - val_loss: 0.3858 - val_accuracy: 0.8842\n",
      "Epoch 10/10\n",
      "625/625 [==============================] - 26s 41ms/step - loss: 0.1899 - accuracy: 0.9442 - val_loss: 0.3959 - val_accuracy: 0.8854\n",
      "782/782 [==============================] - 26s 33ms/step - loss: 0.2965 - accuracy: 0.8917\n",
      "Test acc: 0.892\n"
     ]
    }
   ],
   "source": [
    "text_vectorization = TextVectorization(ngrams=2, max_tokens=20000, output_mode='multi_hot')\n",
    "text_vectorization.adapt(text_only_train_ds)\n",
    "binary_2gram_train_ds = train_ds.map(lambda x, y: (text_vectorization(x), y), num_parallel_calls=4)\n",
    "binary_2gram_val_ds = val_ds.map(lambda x, y: (text_vectorization(x), y), num_parallel_calls=4)\n",
    "binary_2gram_test_ds = test_ds.map(lambda x, y: (text_vectorization(x), y), num_parallel_calls=4)\n",
    "callbacks = [keras.callbacks.ModelCheckpoint('binary_2gram.keras', save_best_only=True)]\n",
    "model.fit(binary_2gram_train_ds.cache(), validation_data=binary_2gram_val_ds, epochs=10, callbacks=callbacks)\n",
    "model = keras.models.load_model('binary_2gram.keras')\n",
    "print(f\"Test acc: {model.evaluate(binary_2gram_test_ds)[1]:.3f}\")"
   ],
   "metadata": {
    "collapsed": false,
    "ExecuteTime": {
     "end_time": "2023-09-29T15:48:10.248050Z",
     "start_time": "2023-09-29T15:43:23.773899800Z"
    }
   },
   "id": "7c9d79512b103e8c"
  },
  {
   "cell_type": "markdown",
   "source": [
    "3. 二元语法的TF-IDF编码"
   ],
   "metadata": {
    "collapsed": false
   },
   "id": "509086d88d5d9d9d"
  },
  {
   "cell_type": "code",
   "execution_count": null,
   "outputs": [
    {
     "name": "stdout",
     "output_type": "stream",
     "text": [
      "Epoch 1/10\n",
      "625/625 [==============================] - 25s 39ms/step - loss: 0.7710 - accuracy: 0.8906 - val_loss: 0.3621 - val_accuracy: 0.8830\n",
      "Epoch 2/10\n",
      "625/625 [==============================] - 26s 41ms/step - loss: 0.2674 - accuracy: 0.9042 - val_loss: 0.3954 - val_accuracy: 0.8834\n",
      "Epoch 3/10\n",
      "625/625 [==============================] - 26s 41ms/step - loss: 0.2480 - accuracy: 0.9068 - val_loss: 0.4037 - val_accuracy: 0.8852\n",
      "Epoch 4/10\n",
      "625/625 [==============================] - 2092s 3s/step - loss: 0.2366 - accuracy: 0.9072 - val_loss: 0.3714 - val_accuracy: 0.8838\n",
      "Epoch 5/10\n",
      "625/625 [==============================] - 27s 43ms/step - loss: 0.2286 - accuracy: 0.9100 - val_loss: 0.3796 - val_accuracy: 0.8786\n",
      "Epoch 6/10\n",
      "521/625 [========================>.....] - ETA: 3s - loss: 0.2237 - accuracy: 0.9082"
     ]
    }
   ],
   "source": [
    "text_vectorization = TextVectorization(ngrams=2, max_tokens=20000, output_mode='tf-idf')\n",
    "text_vectorization.adapt(text_only_train_ds)\n",
    "tfidf_2gram_train_ds = train_ds.map(lambda x, y: (text_vectorization(x), y), num_parallel_calls=4)\n",
    "tfidf_2gram_val_ds = val_ds.map(lambda x, y: (text_vectorization(x), y), num_parallel_calls=4)\n",
    "tfidf_2gram_test_ds = test_ds.map(lambda x, y: (text_vectorization(x), y), num_parallel_calls=4)\n",
    "callbacks = [keras.callbacks.ModelCheckpoint('tfidf_2gram.keras', save_best_only=True)]\n",
    "model.fit(tfidf_2gram_train_ds.cache(), validation_data=tfidf_2gram_val_ds, epochs=10, callbacks=callbacks)\n",
    "model = keras.models.load_model('tfidf_2gram.keras')\n",
    "print(f\"Test acc: {model.evaluate(tfidf_2gram_test_ds)[1]:.3f}\")"
   ],
   "metadata": {
    "collapsed": false,
    "is_executing": true,
    "ExecuteTime": {
     "start_time": "2023-09-29T15:48:10.248050Z"
    }
   },
   "id": "55e12ddcf8973b3c"
  },
  {
   "cell_type": "code",
   "execution_count": null,
   "outputs": [],
   "source": [
    "inputs = keras.Input(shape=(1,), dtype='string')\n",
    "processed_inputs = text_vectorization(inputs)\n",
    "outputs = model(processed_inputs)\n",
    "inference_model = keras.Model(inputs, outputs)\n",
    "\n",
    "raw_text_data = tf.convert_to_tensor([[\"That was an excellent movie, I love it.\"]])\n",
    "predictions = inference_model(raw_text_data)\n",
    "print(f\"{float(predictions[0] * 100):.3f} percent positive\")"
   ],
   "metadata": {
    "collapsed": false,
    "is_executing": true
   },
   "id": "85f8085b36ccd907"
  },
  {
   "cell_type": "markdown",
   "source": [
    "# 序列模型方法\n",
    "1. 第一个实例"
   ],
   "metadata": {
    "collapsed": false
   },
   "id": "5dbf9713dee17ade"
  },
  {
   "cell_type": "code",
   "execution_count": 4,
   "outputs": [
    {
     "name": "stdout",
     "output_type": "stream",
     "text": [
      "Model: \"model\"\n",
      "_________________________________________________________________\n",
      " Layer (type)                Output Shape              Param #   \n",
      "=================================================================\n",
      " input_1 (InputLayer)        [(None, None)]            0         \n",
      "                                                                 \n",
      " tf.one_hot (TFOpLambda)     (None, None, 20000)       0         \n",
      "                                                                 \n",
      " bidirectional (Bidirectiona  (None, 64)               5128448   \n",
      " l)                                                              \n",
      "                                                                 \n",
      " dropout (Dropout)           (None, 64)                0         \n",
      "                                                                 \n",
      " dense (Dense)               (None, 1)                 65        \n",
      "                                                                 \n",
      "=================================================================\n",
      "Total params: 5,128,513\n",
      "Trainable params: 5,128,513\n",
      "Non-trainable params: 0\n",
      "_________________________________________________________________\n"
     ]
    }
   ],
   "source": [
    "max_length = 600\n",
    "max_tokens = 20000\n",
    "text_vectorization = layers.TextVectorization(max_tokens=max_tokens, output_mode='int', output_sequence_length=max_length)\n",
    "text_vectorization.adapt(text_only_train_ds)\n",
    "int_train_ds = train_ds.map(lambda x, y: (text_vectorization(x), y), num_parallel_calls=4)\n",
    "int_val_ds = val_ds.map(lambda x, y: (text_vectorization(x), y), num_parallel_calls=4)\n",
    "int_test_ds = test_ds.map(lambda x, y: (text_vectorization(x), y), num_parallel_calls=4)\n",
    "\n",
    "inputs = keras.Input(shape=(None,), dtype='int64')\n",
    "embedded = tf.one_hot(inputs, depth=max_tokens)\n",
    "x = layers.Bidirectional(layers.LSTM(32))(embedded)\n",
    "x = layers.Dropout(0.5)(x)\n",
    "outputs = layers.Dense(1, activation='sigmoid')(x)\n",
    "model = keras.Model(inputs, outputs)\n",
    "model.compile(optimizer='rmsprop', loss='binary_crossentropy', metrics=['accuracy'])\n",
    "model.summary()"
   ],
   "metadata": {
    "collapsed": false,
    "ExecuteTime": {
     "end_time": "2023-09-29T19:21:39.617874Z",
     "start_time": "2023-09-29T19:21:35.098948900Z"
    }
   },
   "id": "a4a9d79a27d04063"
  },
  {
   "cell_type": "code",
   "execution_count": null,
   "outputs": [],
   "source": [
    "callbacks = [keras.callbacks.ModelCheckpoint('one_hot_bidir_lstm.keras', save_best_only=True)]\n",
    "model.fit(int_train_ds, validation_data=int_val_ds, epochs=10, callbacks=callbacks)\n",
    "print(f\"Test acc: {model.evaluate(int_test_ds)[1]:.3f}\")"
   ],
   "metadata": {
    "collapsed": false,
    "is_executing": true
   },
   "id": "432058e858f32330"
  },
  {
   "cell_type": "markdown",
   "source": [
    "2. 利用Embedding层学习词嵌入"
   ],
   "metadata": {
    "collapsed": false
   },
   "id": "365eb589d2916750"
  },
  {
   "cell_type": "code",
   "execution_count": null,
   "outputs": [
    {
     "name": "stdout",
     "output_type": "stream",
     "text": [
      "Model: \"model_1\"\n",
      "_________________________________________________________________\n",
      " Layer (type)                Output Shape              Param #   \n",
      "=================================================================\n",
      " input_2 (InputLayer)        [(None, None)]            0         \n",
      "                                                                 \n",
      " embedding (Embedding)       (None, None, 256)         5120000   \n",
      "                                                                 \n",
      " bidirectional_1 (Bidirectio  (None, 64)               73984     \n",
      " nal)                                                            \n",
      "                                                                 \n",
      " dropout_1 (Dropout)         (None, 64)                0         \n",
      "                                                                 \n",
      " dense_1 (Dense)             (None, 1)                 65        \n",
      "                                                                 \n",
      "=================================================================\n",
      "Total params: 5,194,049\n",
      "Trainable params: 5,194,049\n",
      "Non-trainable params: 0\n",
      "_________________________________________________________________\n",
      "Epoch 1/10\n",
      "625/625 [==============================] - 352s 559ms/step - loss: 0.4645 - accuracy: 0.7904 - val_loss: 0.3766 - val_accuracy: 0.8518\n",
      "Epoch 2/10\n",
      "625/625 [==============================] - 360s 577ms/step - loss: 0.3013 - accuracy: 0.8906 - val_loss: 0.4925 - val_accuracy: 0.8060\n",
      "Epoch 3/10\n",
      "625/625 [==============================] - 370s 592ms/step - loss: 0.2481 - accuracy: 0.9132 - val_loss: 0.3157 - val_accuracy: 0.8802\n",
      "Epoch 4/10\n",
      "605/625 [============================>.] - ETA: 15s - loss: 0.2060 - accuracy: 0.9303"
     ]
    }
   ],
   "source": [
    "inputs = keras.Input(shape=(None,), dtype='int64')\n",
    "embedded = layers.Embedding(input_dim=max_tokens, output_dim=256)(inputs)\n",
    "x = layers.Bidirectional(layers.LSTM(32))(embedded)\n",
    "x = layers.Dropout(0.5)(x)\n",
    "outputs = layers.Dense(1, activation='sigmoid')(x)\n",
    "model = keras.Model(inputs, outputs)\n",
    "model.compile(optimizer='rmsprop', loss='binary_crossentropy', metrics=['accuracy'])\n",
    "model.summary()\n",
    "callbacks = [keras.callbacks.ModelCheckpoint('embeddings_bidir_gru.keras', save_best_only=True)]\n",
    "model.fit(int_train_ds, validation_data=int_val_ds, epochs=10, callbacks=callbacks)\n",
    "model = keras.models.load_model('embeddings_bidir_gru.keras')\n",
    "print(f\"Test acc: {model.evaluate(int_test_ds)[1]:.3f}\")"
   ],
   "metadata": {
    "collapsed": false,
    "is_executing": true,
    "ExecuteTime": {
     "start_time": "2023-09-29T19:22:15.955893600Z"
    }
   },
   "id": "9f7698d4bc94a6f7"
  },
  {
   "cell_type": "markdown",
   "source": [
    "3. 理解填充和掩码"
   ],
   "metadata": {
    "collapsed": false
   },
   "id": "4c615da95e00f744"
  },
  {
   "cell_type": "code",
   "execution_count": null,
   "outputs": [
    {
     "name": "stdout",
     "output_type": "stream",
     "text": [
      "Model: \"model_4\"\n",
      "_________________________________________________________________\n",
      " Layer (type)                Output Shape              Param #   \n",
      "=================================================================\n",
      " input_5 (InputLayer)        [(None, None)]            0         \n",
      "                                                                 \n",
      " embedding_4 (Embedding)     (None, None, 256)         5120000   \n",
      "                                                                 \n",
      " bidirectional_4 (Bidirectio  (None, 64)               73984     \n",
      " nal)                                                            \n",
      "                                                                 \n",
      " dropout_4 (Dropout)         (None, 64)                0         \n",
      "                                                                 \n",
      " dense_4 (Dense)             (None, 1)                 65        \n",
      "                                                                 \n",
      "=================================================================\n",
      "Total params: 5,194,049\n",
      "Trainable params: 5,194,049\n",
      "Non-trainable params: 0\n",
      "_________________________________________________________________\n",
      "Epoch 1/10\n",
      "511/625 [=======================>......] - ETA: 1:29 - loss: 0.3961 - accuracy: 0.8181"
     ]
    }
   ],
   "source": [
    "inputs = keras.Input(shape=(None,), dtype='int64')\n",
    "embedded = layers.Embedding(input_dim=max_tokens, output_dim=256, mask_zero=True)(inputs)\n",
    "x = layers.Bidirectional(layers.LSTM(32))(embedded)\n",
    "x = layers.Dropout(0.5)(x)\n",
    "outputs = layers.Dense(1, activation='sigmoid')(x)\n",
    "model = keras.Model(inputs, outputs)\n",
    "model.compile(optimizer='rmsprop', loss='binary_crossentropy', metrics=['accuracy'])\n",
    "model.summary()\n",
    "callbacks = [keras.callbacks.ModelCheckpoint(\"embeddings_bidir_gru_with_masking.keras\", save_best_only=True)]\n",
    "model.fit(int_train_ds, validation_data=int_val_ds, epochs=10, callbacks=callbacks)\n",
    "model = keras.models.load_model('embeddings_bidir_gru_with_masking.keras')\n",
    "print(f\"Test acc: {model.evaluate(int_test_ds)[1]:.3f}\")"
   ],
   "metadata": {
    "collapsed": false,
    "is_executing": true,
    "ExecuteTime": {
     "start_time": "2023-09-29T23:32:07.888111800Z"
    }
   },
   "id": "5decc9de9253ce"
  },
  {
   "cell_type": "markdown",
   "source": [
    "4. 使用预训练的词嵌入"
   ],
   "metadata": {
    "collapsed": false
   },
   "id": "a57cd9d402e7ae52"
  },
  {
   "cell_type": "code",
   "execution_count": 27,
   "outputs": [
    {
     "name": "stdout",
     "output_type": "stream",
     "text": [
      "Found 400000 word vectors.\n"
     ]
    }
   ],
   "source": [
    "path_to_glove_file = 'glove.6B.100d.txt'\n",
    "embeddings_index = {}\n",
    "\n",
    "with open(path_to_glove_file, encoding='utf-8') as f:\n",
    "    for line in f:\n",
    "        word, coefs = line.split(maxsplit=1)\n",
    "        coefs = np.fromstring(coefs, 'f', sep=' ')\n",
    "        embeddings_index[word] = coefs\n",
    "\n",
    "print(f\"Found {len(embeddings_index)} word vectors.\")"
   ],
   "metadata": {
    "collapsed": false,
    "ExecuteTime": {
     "end_time": "2023-09-29T22:25:40.634858200Z",
     "start_time": "2023-09-29T22:25:32.382436300Z"
    }
   },
   "id": "fcfda9e659540f9"
  },
  {
   "cell_type": "code",
   "execution_count": 28,
   "outputs": [
    {
     "name": "stdout",
     "output_type": "stream",
     "text": [
      "Model: \"model_3\"\n",
      "_________________________________________________________________\n",
      " Layer (type)                Output Shape              Param #   \n",
      "=================================================================\n",
      " input_4 (InputLayer)        [(None, None)]            0         \n",
      "                                                                 \n",
      " embedding_3 (Embedding)     (None, None, 100)         2000000   \n",
      "                                                                 \n",
      " bidirectional_3 (Bidirectio  (None, 64)               34048     \n",
      " nal)                                                            \n",
      "                                                                 \n",
      " dropout_3 (Dropout)         (None, 64)                0         \n",
      "                                                                 \n",
      " dense_3 (Dense)             (None, 1)                 65        \n",
      "                                                                 \n",
      "=================================================================\n",
      "Total params: 2,034,113\n",
      "Trainable params: 34,113\n",
      "Non-trainable params: 2,000,000\n",
      "_________________________________________________________________\n",
      "Epoch 1/10\n",
      "625/625 [==============================] - 374s 590ms/step - loss: 0.5761 - accuracy: 0.6938 - val_loss: 0.4685 - val_accuracy: 0.7820\n",
      "Epoch 2/10\n",
      "625/625 [==============================] - 375s 600ms/step - loss: 0.4480 - accuracy: 0.7944 - val_loss: 0.4112 - val_accuracy: 0.8186\n",
      "Epoch 3/10\n",
      "625/625 [==============================] - 373s 596ms/step - loss: 0.3986 - accuracy: 0.8250 - val_loss: 0.3773 - val_accuracy: 0.8352\n",
      "Epoch 4/10\n",
      "625/625 [==============================] - 373s 596ms/step - loss: 0.3670 - accuracy: 0.8438 - val_loss: 0.3728 - val_accuracy: 0.8320\n",
      "Epoch 5/10\n",
      "625/625 [==============================] - 373s 597ms/step - loss: 0.3448 - accuracy: 0.8540 - val_loss: 0.3512 - val_accuracy: 0.8470\n",
      "Epoch 6/10\n",
      "625/625 [==============================] - 369s 591ms/step - loss: 0.3236 - accuracy: 0.8633 - val_loss: 0.3726 - val_accuracy: 0.8424\n",
      "Epoch 7/10\n",
      "625/625 [==============================] - 372s 596ms/step - loss: 0.3056 - accuracy: 0.8726 - val_loss: 0.3596 - val_accuracy: 0.8408\n",
      "Epoch 8/10\n",
      "625/625 [==============================] - 372s 595ms/step - loss: 0.2875 - accuracy: 0.8807 - val_loss: 0.3336 - val_accuracy: 0.8634\n",
      "Epoch 9/10\n",
      "625/625 [==============================] - 371s 594ms/step - loss: 0.2748 - accuracy: 0.8886 - val_loss: 0.3149 - val_accuracy: 0.8700\n",
      "Epoch 10/10\n",
      "625/625 [==============================] - 371s 593ms/step - loss: 0.2594 - accuracy: 0.8946 - val_loss: 0.3151 - val_accuracy: 0.8698\n",
      "782/782 [==============================] - 134s 169ms/step - loss: 0.2944 - accuracy: 0.8764\n",
      "Test acc: 0.876\n"
     ]
    }
   ],
   "source": [
    "embedding_dim = 100\n",
    "vocabulary = text_vectorization.get_vocabulary()\n",
    "word_index = dict(zip(vocabulary, range(len(vocabulary))))\n",
    "embedding_matrix = np.zeros((max_tokens, embedding_dim))\n",
    "\n",
    "for word, i in word_index.items():\n",
    "    if i < max_tokens:\n",
    "        embedding_vector = embeddings_index.get(word)\n",
    "    if embedding_vector is not None:\n",
    "        embedding_matrix[i] = embedding_vector\n",
    "\n",
    "embedding_layer = layers.Embedding(max_tokens, embedding_dim, embeddings_initializer=keras.initializers.Constant(embedding_matrix), trainable=False, mask_zero=True)\n",
    "inputs = keras.Input(shape=(None,), dtype='int64')\n",
    "embedded = embedding_layer(inputs)\n",
    "x = layers.Bidirectional(layers.LSTM(32))(embedded)\n",
    "x = layers.Dropout(0.5)(x)\n",
    "outputs = layers.Dense(1, activation='sigmoid')(x)\n",
    "model = keras.Model(inputs, outputs)\n",
    "model.compile(optimizer='rmsprop', loss='binary_crossentropy', metrics=['accuracy'])\n",
    "model.summary()\n",
    "callbacks = [keras.callbacks.ModelCheckpoint('glove_embeddings_sequence_model.keras', save_best_only=True)]\n",
    "model.fit(int_train_ds, validation_data=int_val_ds, epochs=10, callbacks=callbacks)\n",
    "model = keras.models.load_model('glove_embeddings_sequence_model.keras')\n",
    "print(f\"Test acc: {model.evaluate(int_test_ds)[1]:.3f}\")"
   ],
   "metadata": {
    "collapsed": false,
    "ExecuteTime": {
     "end_time": "2023-09-29T23:30:02.209998400Z",
     "start_time": "2023-09-29T22:25:40.639857500Z"
    }
   },
   "id": "93d2ff52763b05d1"
  },
  {
   "cell_type": "markdown",
   "source": [
    " [返回](text_data_preprocessing.md)"
   ],
   "metadata": {
    "collapsed": false
   },
   "id": "a8fe57a1f083e9a8"
  }
 ],
 "metadata": {
  "kernelspec": {
   "display_name": "Python 3",
   "language": "python",
   "name": "python3"
  },
  "language_info": {
   "codemirror_mode": {
    "name": "ipython",
    "version": 2
   },
   "file_extension": ".py",
   "mimetype": "text/x-python",
   "name": "python",
   "nbconvert_exporter": "python",
   "pygments_lexer": "ipython2",
   "version": "2.7.6"
  }
 },
 "nbformat": 4,
 "nbformat_minor": 5
}
