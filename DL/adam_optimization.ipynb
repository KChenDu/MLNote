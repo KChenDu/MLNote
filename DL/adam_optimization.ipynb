{
 "cells": [
  {
   "cell_type": "markdown",
   "metadata": {},
   "source": [
    "# Adam Optimization"
   ]
  },
  {
   "cell_type": "code",
   "execution_count": 1,
   "metadata": {},
   "outputs": [
    {
     "name": "stdout",
     "output_type": "stream",
     "text": [
      "Epoch 1/10\n",
      "1719/1719 [==============================] - 4s 2ms/step - loss: 0.4891 - accuracy: 0.8229 - val_loss: 0.4360 - val_accuracy: 0.8304\n",
      "Epoch 2/10\n",
      "1719/1719 [==============================] - 3s 2ms/step - loss: 0.3755 - accuracy: 0.8622 - val_loss: 0.4035 - val_accuracy: 0.8448\n",
      "Epoch 3/10\n",
      "1719/1719 [==============================] - 3s 2ms/step - loss: 0.3425 - accuracy: 0.8740 - val_loss: 0.3498 - val_accuracy: 0.8730\n",
      "Epoch 4/10\n",
      "1719/1719 [==============================] - 3s 2ms/step - loss: 0.3174 - accuracy: 0.8828 - val_loss: 0.3447 - val_accuracy: 0.8756\n",
      "Epoch 5/10\n",
      "1719/1719 [==============================] - 3s 2ms/step - loss: 0.2979 - accuracy: 0.8891 - val_loss: 0.3368 - val_accuracy: 0.8762\n",
      "Epoch 6/10\n",
      "1719/1719 [==============================] - 3s 2ms/step - loss: 0.2837 - accuracy: 0.8948 - val_loss: 0.3410 - val_accuracy: 0.8774\n",
      "Epoch 7/10\n",
      "1719/1719 [==============================] - 3s 2ms/step - loss: 0.2705 - accuracy: 0.8983 - val_loss: 0.3386 - val_accuracy: 0.8834\n",
      "Epoch 8/10\n",
      "1719/1719 [==============================] - 3s 2ms/step - loss: 0.2582 - accuracy: 0.9011 - val_loss: 0.3288 - val_accuracy: 0.8860\n",
      "Epoch 9/10\n",
      "1719/1719 [==============================] - 3s 2ms/step - loss: 0.2512 - accuracy: 0.9051 - val_loss: 0.3481 - val_accuracy: 0.8756\n",
      "Epoch 10/10\n",
      "1719/1719 [==============================] - 3s 2ms/step - loss: 0.2411 - accuracy: 0.9079 - val_loss: 0.3400 - val_accuracy: 0.8806\n"
     ]
    }
   ],
   "source": [
    "import tensorflow as tf\n",
    "import matplotlib.pyplot as plt\n",
    "\n",
    "\n",
    "fashion_mnist = tf.keras.datasets.fashion_mnist.load_data()\n",
    "(X_train_full, y_train_full), (X_test, y_test) = fashion_mnist\n",
    "X_train, y_train = X_train_full[:-5000], y_train_full[:-5000]\n",
    "X_valid, y_valid = X_train_full[-5000:], y_train_full[-5000:]\n",
    "X_train, X_valid, X_test = X_train / 255, X_valid / 255, X_test / 255\n",
    "\n",
    "\n",
    "# extra code – a little function to test an optimizer on Fashion MNIST\n",
    "\n",
    "def build_model(seed=42):\n",
    "    tf.random.set_seed(seed)\n",
    "    return tf.keras.Sequential([\n",
    "        tf.keras.layers.Flatten(input_shape=[28, 28]),\n",
    "        tf.keras.layers.Dense(100, activation=\"relu\",\n",
    "                              kernel_initializer=\"he_normal\"),\n",
    "        tf.keras.layers.Dense(100, activation=\"relu\",\n",
    "                              kernel_initializer=\"he_normal\"),\n",
    "        tf.keras.layers.Dense(100, activation=\"relu\",\n",
    "                              kernel_initializer=\"he_normal\"),\n",
    "        tf.keras.layers.Dense(10, activation=\"softmax\")\n",
    "    ])\n",
    "\n",
    "\n",
    "def build_and_train_model(optimizer):\n",
    "    model = build_model()\n",
    "    model.compile(loss=\"sparse_categorical_crossentropy\", optimizer=optimizer,\n",
    "                  metrics=[\"accuracy\"])\n",
    "    return model.fit(X_train, y_train, epochs=10,\n",
    "                     validation_data=(X_valid, y_valid))\n",
    "\n",
    "\n",
    "optimizer = tf.keras.optimizers.Adam(learning_rate=0.001, beta_1=0.9,\n",
    "                                     beta_2=0.999)\n",
    "history_adam = build_and_train_model(optimizer)  # extra code"
   ]
  },
  {
   "cell_type": "markdown",
   "metadata": {},
   "source": [
    "## Adamax Optimization"
   ]
  },
  {
   "cell_type": "code",
   "execution_count": 2,
   "metadata": {},
   "outputs": [
    {
     "name": "stdout",
     "output_type": "stream",
     "text": [
      "Epoch 1/10\n",
      "1719/1719 [==============================] - 3s 2ms/step - loss: 0.5358 - accuracy: 0.8123 - val_loss: 0.4436 - val_accuracy: 0.8348\n",
      "Epoch 2/10\n",
      "1719/1719 [==============================] - 3s 2ms/step - loss: 0.3949 - accuracy: 0.8593 - val_loss: 0.3839 - val_accuracy: 0.8544\n",
      "Epoch 3/10\n",
      "1719/1719 [==============================] - 3s 2ms/step - loss: 0.3572 - accuracy: 0.8716 - val_loss: 0.3825 - val_accuracy: 0.8650\n",
      "Epoch 4/10\n",
      "1719/1719 [==============================] - 4s 2ms/step - loss: 0.3326 - accuracy: 0.8799 - val_loss: 0.3382 - val_accuracy: 0.8752\n",
      "Epoch 5/10\n",
      "1719/1719 [==============================] - 4s 2ms/step - loss: 0.3121 - accuracy: 0.8869 - val_loss: 0.3248 - val_accuracy: 0.8808\n",
      "Epoch 6/10\n",
      "1719/1719 [==============================] - 4s 2ms/step - loss: 0.2975 - accuracy: 0.8911 - val_loss: 0.3306 - val_accuracy: 0.8776\n",
      "Epoch 7/10\n",
      "1719/1719 [==============================] - 4s 2ms/step - loss: 0.2844 - accuracy: 0.8948 - val_loss: 0.3334 - val_accuracy: 0.8754\n",
      "Epoch 8/10\n",
      "1719/1719 [==============================] - 4s 2ms/step - loss: 0.2743 - accuracy: 0.8987 - val_loss: 0.3089 - val_accuracy: 0.8860\n",
      "Epoch 9/10\n",
      "1719/1719 [==============================] - 4s 2ms/step - loss: 0.2658 - accuracy: 0.9022 - val_loss: 0.3354 - val_accuracy: 0.8740\n",
      "Epoch 10/10\n",
      "1719/1719 [==============================] - 4s 2ms/step - loss: 0.2554 - accuracy: 0.9046 - val_loss: 0.3361 - val_accuracy: 0.8776\n"
     ]
    }
   ],
   "source": [
    "optimizer = tf.keras.optimizers.Adamax(learning_rate=0.001, beta_1=0.9,\n",
    "                                       beta_2=0.999)\n",
    "history_adamax = build_and_train_model(optimizer)  # extra code"
   ]
  },
  {
   "cell_type": "markdown",
   "metadata": {},
   "source": [
    "## Nadam Optimization"
   ]
  },
  {
   "cell_type": "code",
   "execution_count": 3,
   "metadata": {},
   "outputs": [
    {
     "name": "stdout",
     "output_type": "stream",
     "text": [
      "Epoch 1/10\n",
      "1719/1719 [==============================] - 5s 3ms/step - loss: 0.4859 - accuracy: 0.8259 - val_loss: 0.4033 - val_accuracy: 0.8494\n",
      "Epoch 2/10\n",
      "1719/1719 [==============================] - 5s 3ms/step - loss: 0.3624 - accuracy: 0.8679 - val_loss: 0.4027 - val_accuracy: 0.8470\n",
      "Epoch 3/10\n",
      "1719/1719 [==============================] - 4s 3ms/step - loss: 0.3265 - accuracy: 0.8788 - val_loss: 0.3581 - val_accuracy: 0.8766\n",
      "Epoch 4/10\n",
      "1719/1719 [==============================] - 5s 3ms/step - loss: 0.3048 - accuracy: 0.8885 - val_loss: 0.3283 - val_accuracy: 0.8796\n",
      "Epoch 5/10\n",
      "1719/1719 [==============================] - 4s 3ms/step - loss: 0.2879 - accuracy: 0.8929 - val_loss: 0.3162 - val_accuracy: 0.8824\n",
      "Epoch 6/10\n",
      "1719/1719 [==============================] - 5s 3ms/step - loss: 0.2716 - accuracy: 0.8984 - val_loss: 0.3408 - val_accuracy: 0.8816\n",
      "Epoch 7/10\n",
      "1719/1719 [==============================] - 5s 3ms/step - loss: 0.2612 - accuracy: 0.9018 - val_loss: 0.3573 - val_accuracy: 0.8730\n",
      "Epoch 8/10\n",
      "1719/1719 [==============================] - 4s 3ms/step - loss: 0.2520 - accuracy: 0.9052 - val_loss: 0.3346 - val_accuracy: 0.8800\n",
      "Epoch 9/10\n",
      "1719/1719 [==============================] - 5s 3ms/step - loss: 0.2437 - accuracy: 0.9085 - val_loss: 0.3654 - val_accuracy: 0.8790\n",
      "Epoch 10/10\n",
      "1719/1719 [==============================] - 5s 3ms/step - loss: 0.2337 - accuracy: 0.9119 - val_loss: 0.3667 - val_accuracy: 0.8746\n"
     ]
    }
   ],
   "source": [
    "optimizer = tf.keras.optimizers.Nadam(learning_rate=0.001, beta_1=0.9,\n",
    "                                      beta_2=0.999)\n",
    "history_nadam = build_and_train_model(optimizer)  # extra code"
   ]
  },
  {
   "cell_type": "code",
   "execution_count": 4,
   "metadata": {},
   "outputs": [
    {
     "ename": "",
     "evalue": "",
     "output_type": "error",
     "traceback": [
      "\u001b[1;31m在当前单元格或上一个单元格中执行代码时 Kernel 崩溃。请查看单元格中的代码，以确定故障的可能原因。有关详细信息，请单击 <a href='https://aka.ms/vscodeJupyterKernelCrash'>此处</a>。有关更多详细信息，请查看 Jupyter <a href='command:jupyter.viewOutput'>log</a>。"
     ]
    }
   ],
   "source": [
    "# extra code – visualize the learning curves of all the optimizers\n",
    "\n",
    "for loss in (\"loss\", \"val_loss\"):\n",
    "    plt.figure(figsize=(12, 8))\n",
    "    opt_names = \"Adam Adamax Nadam\"\n",
    "    for history, opt_name in zip((history_adam,\n",
    "                                  history_adamax, history_nadam),\n",
    "                                 opt_names.split()):\n",
    "        plt.plot(history.history[loss], label=f\"{opt_name}\", linewidth=3)\n",
    "\n",
    "    plt.grid()\n",
    "    plt.xlabel(\"Epochs\")\n",
    "    plt.ylabel({\"loss\": \"Training loss\", \"val_loss\": \"Validation loss\"}[loss])\n",
    "    plt.legend(loc=\"upper left\")\n",
    "    plt.axis([0, 9, 0.1, 0.7])\n",
    "    plt.show()"
   ]
  },
  {
   "cell_type": "markdown",
   "metadata": {},
   "source": [
    "[返回](optimization_for_training_deep_models.md)"
   ]
  }
 ],
 "metadata": {
  "kernelspec": {
   "display_name": "ML",
   "language": "python",
   "name": "python3"
  },
  "language_info": {
   "codemirror_mode": {
    "name": "ipython",
    "version": 3
   },
   "file_extension": ".py",
   "mimetype": "text/x-python",
   "name": "python",
   "nbconvert_exporter": "python",
   "pygments_lexer": "ipython3",
   "version": "3.10.13"
  }
 },
 "nbformat": 4,
 "nbformat_minor": 2
}
