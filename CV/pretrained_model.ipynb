{
 "cells": [
  {
   "cell_type": "code",
   "execution_count": 3,
   "id": "initial_id",
   "metadata": {
    "collapsed": true,
    "ExecuteTime": {
     "end_time": "2023-10-03T21:56:03.647150600Z",
     "start_time": "2023-10-03T21:56:01.702763400Z"
    }
   },
   "outputs": [
    {
     "name": "stdout",
     "output_type": "stream",
     "text": [
      "1/1 [==============================] - 1s 804ms/step\n"
     ]
    },
    {
     "data": {
      "text/plain": "(2, 1000)"
     },
     "execution_count": 3,
     "metadata": {},
     "output_type": "execute_result"
    }
   ],
   "source": [
    "import tensorflow as tf\n",
    "\n",
    "from sklearn.datasets import load_sample_images\n",
    "\n",
    "\n",
    "model = tf.keras.applications.ResNet50(weights=\"imagenet\")\n",
    "\n",
    "images = load_sample_images()[\"images\"]\n",
    "images_resized = tf.keras.layers.Resizing(height=224, width=224, crop_to_aspect_ratio=True)(images)\n",
    "inputs = tf.keras.applications.resnet50.preprocess_input(images_resized)\n",
    "\n",
    "Y_proba = model.predict(inputs)\n",
    "Y_proba.shape"
   ]
  },
  {
   "cell_type": "code",
   "execution_count": 4,
   "outputs": [
    {
     "name": "stdout",
     "output_type": "stream",
     "text": [
      "Image #0\n",
      " n03877845 - palace       54.69%\n",
      " n03781244 - monastery    24.72%\n",
      " n02825657 - bell_cote    18.55%\n",
      "Image #1\n",
      " n04522168 - vase         32.66%\n",
      " n11939491 - daisy        17.81%\n",
      " n03530642 - honeycomb    12.06%\n"
     ]
    }
   ],
   "source": [
    "top_K = tf.keras.applications.resnet50.decode_predictions(Y_proba, top=3)\n",
    "\n",
    "for image_index in range(len(images)):\n",
    "    print(f\"Image #{image_index}\")\n",
    "    for class_id, name, y_proba in top_K[image_index]:\n",
    "        print(f\" {class_id} - {name:12s} {y_proba:.2%}\")"
   ],
   "metadata": {
    "collapsed": false,
    "ExecuteTime": {
     "end_time": "2023-10-03T21:56:03.694870300Z",
     "start_time": "2023-10-03T21:56:03.647150600Z"
    }
   },
   "id": "5169adba0356ad6"
  }
 ],
 "metadata": {
  "kernelspec": {
   "display_name": "Python 3",
   "language": "python",
   "name": "python3"
  },
  "language_info": {
   "codemirror_mode": {
    "name": "ipython",
    "version": 2
   },
   "file_extension": ".py",
   "mimetype": "text/x-python",
   "name": "python",
   "nbconvert_exporter": "python",
   "pygments_lexer": "ipython2",
   "version": "2.7.6"
  }
 },
 "nbformat": 4,
 "nbformat_minor": 5
}
