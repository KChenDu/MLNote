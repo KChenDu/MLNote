{
 "cells": [
  {
   "cell_type": "markdown",
   "id": "ddc97e73",
   "metadata": {},
   "source": [
    "# [线性回归](linear_regression.ipynb)\n",
    "$$f(\\mathbf x_i) = \\mathbf \\omega^\\top\\mathbf x_i + b\\Rightarrow f(\\mathbf X) =\\mathbf X\\hat{\\mathbf \\omega}$$\n",
    "$$\\hat{\\mathbf \\omega}\\ast = \\argmin_{\\hat{\\mathbf \\omega}}(\\mathbf y - \\mathbf X\\hat{\\mathbf \\omega})^\\top(\\mathbf y - \\mathbf X\\hat{\\mathbf \\omega})$$\n",
    "$$\\frac{\\partial E_{\\hat{\\mathbf \\omega}}}{\\partial \\hat{\\mathbf \\omega}} = 2\\mathbf X^\\top(\\mathbf X\\hat{\\mathbf \\omega} - \\mathbf y)\\Rightarrow \\hat{\\mathbf \\omega}\\ast = (\\mathbf X^\\top\\mathbf X)^{-1}\\mathbf X^\\top\\mathbf y$$"
   ]
  },
  {
   "cell_type": "code",
   "execution_count": 5,
   "id": "initial_id",
   "metadata": {
    "ExecuteTime": {
     "end_time": "2023-09-30T13:59:42.051525800Z",
     "start_time": "2023-09-30T13:59:41.886466600Z"
    },
    "collapsed": true
   },
   "outputs": [
    {
     "data": {
      "text/plain": [
       "(array([4.18771782]), array([[2.79226545]]))"
      ]
     },
     "execution_count": 5,
     "metadata": {},
     "output_type": "execute_result"
    }
   ],
   "source": [
    "import numpy as np\n",
    "\n",
    "from sklearn.linear_model import LinearRegression\n",
    "\n",
    "\n",
    "X = 2 * np.random.rand(100, 1)\n",
    "y = 4 + 3 * X + np.random.randn(100, 1)\n",
    "\n",
    "lin_reg = LinearRegression()\n",
    "lin_reg.fit(X, y)\n",
    "lin_reg.intercept_, lin_reg.coef_"
   ]
  },
  {
   "cell_type": "code",
   "execution_count": 6,
   "id": "8f4beac52908ba91",
   "metadata": {
    "ExecuteTime": {
     "end_time": "2023-09-30T13:59:42.051525800Z",
     "start_time": "2023-09-30T13:59:41.917642900Z"
    },
    "collapsed": false
   },
   "outputs": [
    {
     "data": {
      "text/plain": [
       "array([[4.18771782],\n",
       "       [9.77224872]])"
      ]
     },
     "execution_count": 6,
     "metadata": {},
     "output_type": "execute_result"
    }
   ],
   "source": [
    "X_new = np.array([[0], [2]])\n",
    "lin_reg.predict(X_new)"
   ]
  },
  {
   "cell_type": "markdown",
   "id": "f3e46c8750d218a2",
   "metadata": {
    "collapsed": false
   },
   "source": [
    "[返回](readme.md)"
   ]
  }
 ],
 "metadata": {
  "kernelspec": {
   "display_name": "Python 3",
   "language": "python",
   "name": "python3"
  },
  "language_info": {
   "codemirror_mode": {
    "name": "ipython",
    "version": 2
   },
   "file_extension": ".py",
   "mimetype": "text/x-python",
   "name": "python",
   "nbconvert_exporter": "python",
   "pygments_lexer": "ipython2",
   "version": "2.7.6"
  }
 },
 "nbformat": 4,
 "nbformat_minor": 5
}
