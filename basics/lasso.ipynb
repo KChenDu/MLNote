{
 "cells": [
  {
   "cell_type": "markdown",
   "metadata": {},
   "source": [
    "# Lasso回归\n",
    "- 成本函数：\n",
    "    $$J(\\mathbf\\theta) = \\mathrm{MSE}(\\mathbf\\theta) + \\alpha\\sum_{i = 1}^n|\\theta_i|$$\n",
    "- 子梯度向量：\n",
    "    $$g(\\mathbf\\theta, J) = \\nabla_{\\mathbf\\theta} + \\alpha\n",
    "    \\begin{pmatrix}\n",
    "        sign(\\theta_1) \\\\\n",
    "        sign(\\theta_2) \\\\\n",
    "        \\vdots \\\\\n",
    "        sign(\\theta_n)\n",
    "    \\end{pmatrix}\n",
    "    $$\n",
    "    其中$sign(\\theta_i) =\n",
    "    \\begin{cases}\n",
    "        -1 & \\text{如果}\\theta_i < 0 \\\\\n",
    "        0 & \\text{如果}\\theta_i = 0 \\\\\n",
    "        +1 & \\text{如果}\\theta_i > 0\n",
    "    \\end{cases}\n",
    "    $"
   ]
  },
  {
   "cell_type": "code",
   "execution_count": 1,
   "metadata": {},
   "outputs": [
    {
     "data": {
      "text/plain": [
       "array([4.77621741])"
      ]
     },
     "execution_count": 1,
     "metadata": {},
     "output_type": "execute_result"
    }
   ],
   "source": [
    "import numpy as np\n",
    "\n",
    "from sklearn.linear_model import Lasso\n",
    "\n",
    "\n",
    "m = 100\n",
    "X = 6 * np.random.rand(m, 1) - 3\n",
    "y = 0.5 * X ** 2 + X + 2 + np.random.randn(m, 1)\n",
    "\n",
    "lasso_reg = Lasso(alpha=0.1)\n",
    "lasso_reg.fit(X, y)\n",
    "lasso_reg.predict([[1.5]])"
   ]
  },
  {
   "cell_type": "markdown",
   "metadata": {},
   "source": [
    "[返回](readme.md)"
   ]
  }
 ],
 "metadata": {
  "kernelspec": {
   "display_name": "ML",
   "language": "python",
   "name": "python3"
  },
  "language_info": {
   "codemirror_mode": {
    "name": "ipython",
    "version": 3
   },
   "file_extension": ".py",
   "mimetype": "text/x-python",
   "name": "python",
   "nbconvert_exporter": "python",
   "pygments_lexer": "ipython3",
   "version": "3.10.13"
  }
 },
 "nbformat": 4,
 "nbformat_minor": 2
}
