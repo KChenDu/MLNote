{
 "cells": [
  {
   "cell_type": "markdown",
   "metadata": {},
   "source": [
    "层次聚类试图在不同层次对数据集进行划分，从而形成树形的聚类结构。数据集的划分可采用“自底向上”的聚合策略，也可采用“自顶向下“的分拆策略\n",
    "\n",
    "AGNES是一种采用自底向上聚合策略的层次聚类算法。它先将数据集中的每个样本看作一个初始聚类簇，然后在算法运行的每一步中找出距离最近的两个聚类簇进行合并，该过程不断重复，直至达到预设的聚类簇个数。这里的关键是如何计算聚类簇之间的距离。实际上，每个簇是一个样本集合，因此，只需采用关于集合的某种距离即可。例如，给定聚类簇$C_i$与$C_j$，可通过下面的式子来计算距离：\n",
    "- 最小距离：$d_{\\min}(C_i, C_j) = \\min_{\\mathbf x \\in C_i, \\mathbf z \\in C_j}\\mathrm{dist(\\mathbf x, \\mathbf z)}$\n",
    "- 最大距离：$d_{\\max}(C_i, C_j) = \\max_{\\mathbf x \\in C_i, \\mathbf z \\in C_j}\\mathrm{dist(\\mathbf x, \\mathbf z)}$\n",
    "- 平均距离：$d_{\\mathrm{avg}}(C_i, C_j) = \\frac1{|C_i||C_j|}\\sum_{\\mathbf x \\in C_i}\\sum_{\\mathbf z \\in C_j}\\mathrm{dist(\\mathbf x, \\mathbf z)}$\n",
    "\n",
    "显然，最小距离由两个簇的最近样本决定，最大距离由两个簇的最远样本决定，而平均距离则由两个簇的所有样本共同决定。当聚类簇距离由$d_{\\min}$、$d_{\\max}$或$d_{\\mathrm{avg}}$计算时，AGNES算法被相应地称为”单链接“、”全链接“或”均链接“算法\n",
    "![AGNES算法](AGNES.png \"AGNES算法\")"
   ]
  },
  {
   "cell_type": "code",
   "execution_count": 1,
   "metadata": {},
   "outputs": [
    {
     "data": {
      "text/plain": [
       "['children_',\n",
       " 'labels_',\n",
       " 'n_clusters_',\n",
       " 'n_connected_components_',\n",
       " 'n_features_in_',\n",
       " 'n_leaves_']"
      ]
     },
     "execution_count": 1,
     "metadata": {},
     "output_type": "execute_result"
    }
   ],
   "source": [
    "import numpy as np\n",
    "\n",
    "from sklearn.cluster import AgglomerativeClustering\n",
    "\n",
    "\n",
    "X = np.array([0, 2, 5, 8.5]).reshape(-1, 1)\n",
    "agg = AgglomerativeClustering(linkage=\"complete\").fit(X)\n",
    "\n",
    "\n",
    "def learned_parameters(estimator):\n",
    "    return [attrib for attrib in dir(estimator)\n",
    "            if attrib.endswith(\"_\") and not attrib.startswith(\"_\")]\n",
    "\n",
    "\n",
    "learned_parameters(agg)"
   ]
  },
  {
   "cell_type": "code",
   "execution_count": 2,
   "metadata": {},
   "outputs": [
    {
     "data": {
      "text/plain": [
       "array([[0, 1],\n",
       "       [2, 3],\n",
       "       [4, 5]])"
      ]
     },
     "execution_count": 2,
     "metadata": {},
     "output_type": "execute_result"
    }
   ],
   "source": [
    "agg.children_"
   ]
  },
  {
   "cell_type": "markdown",
   "metadata": {},
   "source": [
    "[返回](readme.md)"
   ]
  }
 ],
 "metadata": {
  "kernelspec": {
   "display_name": "ML",
   "language": "python",
   "name": "python3"
  },
  "language_info": {
   "codemirror_mode": {
    "name": "ipython",
    "version": 3
   },
   "file_extension": ".py",
   "mimetype": "text/x-python",
   "name": "python",
   "nbconvert_exporter": "python",
   "pygments_lexer": "ipython3",
   "version": "3.10.13"
  }
 },
 "nbformat": 4,
 "nbformat_minor": 2
}
